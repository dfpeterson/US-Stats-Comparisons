{
 "cells": [
  {
   "cell_type": "code",
   "execution_count": 42,
   "id": "6ad16cc1-4afe-4aeb-b5f2-5be8133576b4",
   "metadata": {},
   "outputs": [],
   "source": [
    "import us_stats, importlib"
   ]
  },
  {
   "cell_type": "code",
   "execution_count": 46,
   "id": "fd335dbc-d3e0-4e15-b323-a3ac246229e4",
   "metadata": {},
   "outputs": [
    {
     "data": {
      "text/plain": [
       "<module 'us_stats' from 'C:\\\\Users\\\\dfpet\\\\OneDrive\\\\Documents\\\\GitHub\\\\US-Stats-Comparisons\\\\us_stats.py'>"
      ]
     },
     "execution_count": 46,
     "metadata": {},
     "output_type": "execute_result"
    }
   ],
   "source": [
    "importlib.reload(us_stats)"
   ]
  },
  {
   "cell_type": "code",
   "execution_count": 48,
   "id": "8c9640e2-db94-481e-871b-4c48506cdc04",
   "metadata": {},
   "outputs": [
    {
     "name": "stdout",
     "output_type": "stream",
     "text": [
      "Stats for :1871-03-18\n",
      "CPI for the period: 0.05\n",
      "US Population for the period: 38.6 million\n",
      "World Population for the period: 1.3 billion\n",
      "------------------\n",
      "Period Delta from 1871-03-18 to 2025-05-04:\n",
      "CPI Delta for the period: 0.04\n",
      "US Population Delta for the period: 11.6%\n",
      "World Population Delta for the period: 15.9%\n"
     ]
    }
   ],
   "source": [
    "my_date = us_stats.PeriodData('1871-03-18')\n",
    "print(my_date)\n",
    "print('------------------')\n",
    "compare_stats = -my_date\n",
    "print(compare_stats)"
   ]
  },
  {
   "cell_type": "code",
   "execution_count": 50,
   "id": "247729ac-5d8c-409c-bbfa-6ad81597d252",
   "metadata": {},
   "outputs": [
    {
     "name": "stdout",
     "output_type": "stream",
     "text": [
      "0.0003806382998727599\n"
     ]
    }
   ],
   "source": [
    "print(compare_stats.cpi_delta/100)"
   ]
  },
  {
   "cell_type": "code",
   "execution_count": 52,
   "id": "c81bd94f-a366-4d96-b4c3-3203cd66fb5a",
   "metadata": {},
   "outputs": [
    {
     "name": "stdout",
     "output_type": "stream",
     "text": [
      "3.806382998727599\n"
     ]
    }
   ],
   "source": [
    "print(compare_stats.cpi_delta * 100)"
   ]
  },
  {
   "cell_type": "code",
   "execution_count": 54,
   "id": "2980f0d2-7f03-4eca-a486-dcf9a864934e",
   "metadata": {},
   "outputs": [
    {
     "name": "stdout",
     "output_type": "stream",
     "text": [
      "2627.1660007263613\n"
     ]
    }
   ],
   "source": [
    "print(100/compare_stats.cpi_delta)"
   ]
  },
  {
   "cell_type": "code",
   "execution_count": 74,
   "id": "91933c46-502c-4372-905a-ea8a5791ea8d",
   "metadata": {},
   "outputs": [
    {
     "name": "stdout",
     "output_type": "stream",
     "text": [
      "🧍🧍🧍🧍🧍🧍🧍🧍🧍🧍🧍🧍⬜⬜⬜⬜⬜⬜⬜⬜⬜⬜⬜⬜\n",
      "⬜⬜⬜⬜⬜⬜⬜⬜⬜⬜⬜⬜⬜⬜⬜⬜⬜⬜⬜⬜⬜⬜⬜⬜\n",
      "⬜⬜⬜⬜⬜⬜⬜⬜⬜⬜⬜⬜⬜⬜⬜⬜⬜⬜⬜⬜⬜⬜⬜⬜\n",
      "⬜⬜⬜⬜⬜⬜⬜⬜⬜⬜⬜⬜⬜⬜⬜⬜⬜⬜⬜⬜⬜⬜⬜⬜\n"
     ]
    }
   ],
   "source": [
    "vis = (round(compare_stats.us_pop_delta.delta * 100) * ['🧍']) + (round(((1-compare_stats.us_pop_delta.delta) * 100)) * ['⬜'])\n",
    "print('\\n'.join([''.join(vis[row:row+24]) for row in range(0, len(vis), 25)]))"
   ]
  },
  {
   "cell_type": "code",
   "execution_count": 78,
   "id": "0b0df505-26cd-49ea-b1e6-e08df9f479d9",
   "metadata": {},
   "outputs": [
    {
     "name": "stdout",
     "output_type": "stream",
     "text": [
      "🧍🧍🧍🧍🧍🧍🧍🧍🧍🧍🧍🧍🧍🧍🧍🧍⬜⬜⬜⬜⬜⬜⬜⬜\n",
      "⬜⬜⬜⬜⬜⬜⬜⬜⬜⬜⬜⬜⬜⬜⬜⬜⬜⬜⬜⬜⬜⬜⬜⬜\n",
      "⬜⬜⬜⬜⬜⬜⬜⬜⬜⬜⬜⬜⬜⬜⬜⬜⬜⬜⬜⬜⬜⬜⬜⬜\n",
      "⬜⬜⬜⬜⬜⬜⬜⬜⬜⬜⬜⬜⬜⬜⬜⬜⬜⬜⬜⬜⬜⬜⬜⬜\n"
     ]
    }
   ],
   "source": [
    "vis = (round(compare_stats.world_pop_delta.delta * 100) * ['🧍']) + (round(((1-compare_stats.world_pop_delta.delta) * 100)) * ['⬜'])\n",
    "print('\\n'.join([''.join(vis[row:row+24]) for row in range(0, len(vis), 25)]))"
   ]
  },
  {
   "cell_type": "code",
   "execution_count": 122,
   "id": "9acb4ff2-bfea-429a-aac9-520e1ce92e10",
   "metadata": {
    "scrolled": true
   },
   "outputs": [
    {
     "name": "stdout",
     "output_type": "stream",
     "text": [
      "['🧍🏿', '🧍🏻', '🧍🏽', '🧍', '🧍🏾', '🧍🏼', '🧍🏿', '🧍🏻', '🧍🏽', '🧍', '🧍🏾', '🧍🏼', '🧍🏿', '🧍🏻', '🧍🏽', '🧍', '🧍🏾', '🧍🏼', '🧍🏿', '🧍🏻', '🧍🏽', '🧍', '🧍🏾', '🧍🏼', '🧍🏿', '🧍🏻', '🧍🏽', '🧍', '🧍🏾', '🧍🏼', '🧍🏿', '🧍🏻', '🧍🏽', '🧍', '🧍🏾', '🧍🏼', '🧍🏿', '🧍🏻', '🧍🏽', '🧍', '🧍🏾', '🧍🏼', '🧍🏿', '🧍🏻', '🧍🏽', '🧍', '🧍🏾', '🧍🏼', '🧍🏿', '🧍🏻', '🧍🏽', '🧍', '🧍🏾', '🧍🏼', '🧍🏿', '🧍🏻', '🧍🏽', '🧍', '🧍🏾', '🧍🏼', '🧍🏿', '🧍🏻', '🧍🏽', '🧍', '🧍🏾', '🧍🏼', '🧍🏿', '🧍🏻', '🧍🏽', '🧍', '🧍🏾', '🧍🏼', '🧍🏿', '🧍🏻', '🧍🏽', '🧍', '🧍🏾', '🧍🏼', '🧍🏿', '🧍🏻', '🧍🏽', '🧍', '🧍🏾', '🧍🏼', '🧍🏿', '🧍🏻', '🧍🏽', '🧍', '🧍🏾', '🧍🏼', '🧍🏿', '🧍🏻', '🧍🏽', '🧍', '🧍🏾', '🧍🏼', '🧍🏿', '🧍🏻', '🧍🏽', '🧍']\n"
     ]
    }
   ],
   "source": [
    "PEOPLE_BAR = [[ '🧍🏿', '🧍🏻', '🧍🏽', '🧍', '🧍🏾', '🧍🏼'][person%6] for k in range(4) for person in range(k * 25, (k + 1) * 25)]\n",
    "print(PEOPLE_BAR)"
   ]
  },
  {
   "cell_type": "code",
   "execution_count": 114,
   "id": "3aa9df9e-15a1-4bda-a18b-f7d2c6cfc974",
   "metadata": {},
   "outputs": [
    {
     "name": "stdout",
     "output_type": "stream",
     "text": [
      "b'\\xe1\\xbd\\x868'\n"
     ]
    }
   ],
   "source": [
    "print(''.encode('utf-8'))"
   ]
  }
 ],
 "metadata": {
  "kernelspec": {
   "display_name": "Python [conda env:base] *",
   "language": "python",
   "name": "conda-base-py"
  },
  "language_info": {
   "codemirror_mode": {
    "name": "ipython",
    "version": 3
   },
   "file_extension": ".py",
   "mimetype": "text/x-python",
   "name": "python",
   "nbconvert_exporter": "python",
   "pygments_lexer": "ipython3",
   "version": "3.12.9"
  }
 },
 "nbformat": 4,
 "nbformat_minor": 5
}

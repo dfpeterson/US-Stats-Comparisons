{
 "cells": [
  {
   "cell_type": "code",
   "execution_count": 1,
   "id": "6ad16cc1-4afe-4aeb-b5f2-5be8133576b4",
   "metadata": {},
   "outputs": [],
   "source": [
    "import us_stats, importlib"
   ]
  },
  {
   "cell_type": "code",
   "execution_count": 12,
   "id": "fd335dbc-d3e0-4e15-b323-a3ac246229e4",
   "metadata": {},
   "outputs": [
    {
     "data": {
      "text/plain": [
       "<module 'us_stats' from 'C:\\\\Users\\\\dfpet\\\\OneDrive\\\\Documents\\\\GitHub\\\\US-Stats-Comparisons\\\\us_stats.py'>"
      ]
     },
     "execution_count": 12,
     "metadata": {},
     "output_type": "execute_result"
    }
   ],
   "source": [
    "importlib.reload(us_stats)"
   ]
  },
  {
   "cell_type": "code",
   "execution_count": 14,
   "id": "8c9640e2-db94-481e-871b-4c48506cdc04",
   "metadata": {},
   "outputs": [
    {
     "name": "stdout",
     "output_type": "stream",
     "text": [
      "Stats for :1871-03-18\n",
      "CPI for the period: 0.05\n",
      "US Population for the period: 38.6 million\n",
      "World Population for the period: 1.3 billion\n",
      "US GDP for the period: 235.9 billion\n",
      "Per Capita: 5.7 thousand\n",
      "World GDP for the period: 2.3 trillion\n",
      "Per Capita: 1.7 thousand\n",
      "------------------\n",
      "Period Delta from 1871-03-18 to 2025-06-24:\n",
      "CPI Delta for the period: 0.04\n",
      "US Population Delta for the period: 11.6%\n",
      "World Population Delta for the period: 15.9%\n",
      "US GDP Delta for the period: 1.0%\n",
      "Per Capita: 8.4%\n",
      "World GDP Delta for the period: 1.5%\n",
      "Per Capita: 9.0%\n"
     ]
    }
   ],
   "source": [
    "my_date = us_stats.PeriodData('1871-03-18')\n",
    "print(my_date)\n",
    "print('------------------')\n",
    "compare_stats = -my_date\n",
    "print(compare_stats)"
   ]
  },
  {
   "cell_type": "code",
   "execution_count": 5,
   "id": "b72230bc-c9de-4a0d-af24-84a99661a2f6",
   "metadata": {},
   "outputs": [],
   "source": [
    "import matplotlib.pyplot as plt\n",
    "from pywaffle import Waffle"
   ]
  },
  {
   "cell_type": "code",
   "execution_count": 16,
   "id": "247729ac-5d8c-409c-bbfa-6ad81597d252",
   "metadata": {
    "scrolled": true
   },
   "outputs": [
    {
     "name": "stdout",
     "output_type": "stream",
     "text": [
      "{'rows': 5, 'columns': 20, 'values': [0.03806382998727599, 0.961936170012724], 'vertical': True, 'figsize': (5, 3)}\n"
     ]
    }
   ],
   "source": [
    "stats = compare_stats.cpi_delta.waffle\n",
    "print(stats)"
   ]
  },
  {
   "cell_type": "code",
   "execution_count": 18,
   "id": "31114c30-9943-4692-a759-50dd3bb36ba6",
   "metadata": {
    "scrolled": true
   },
   "outputs": [
    {
     "data": {
      "image/png": "[encoded data removed]",
      "text/plain": [
       "<Waffle size 500x300 with 1 Axes>"
      ]
     },
     "metadata": {},
     "output_type": "display_data"
    }
   ],
   "source": [
    "fig = plt.figure(\n",
    "    FigureClass=Waffle, **stats\n",
    ")\n",
    "plt.show()"
   ]
  },
  {
   "cell_type": "code",
   "execution_count": 22,
   "id": "f62abd38-93fc-4db4-8e19-8c6e2a654ce3",
   "metadata": {
    "scrolled": true
   },
   "outputs": [
    {
     "data": {
      "text/plain": [
       "{'rows': 5,\n",
       " 'columns': 20,\n",
       " 'values': {'base year': 12, 'until current year': 88},\n",
       " 'colors': ['#424242', '#ababab'],\n",
       " 'icons': ['person', 'person'],\n",
       " 'figsize': (5, 3)}"
      ]
     },
     "execution_count": 22,
     "metadata": {},
     "output_type": "execute_result"
    }
   ],
   "source": [
    "compare_stats.us_pop_delta.waffle"
   ]
  },
  {
   "cell_type": "code",
   "execution_count": 57,
   "id": "7afc340f-415b-45cd-9d18-1617e3998043",
   "metadata": {
    "scrolled": true
   },
   "outputs": [
    {
     "data": {
      "image/png": "[encoded data removed]",
      "text/plain": [
       "<Waffle size 500x300 with 1 Axes>"
      ]
     },
     "metadata": {},
     "output_type": "display_data"
    }
   ],
   "source": [
    "fig = plt.figure(\n",
    "    FigureClass=Waffle, font_size=16, labels=['1871','2025'], **compare_stats.us_pop_delta.waffle\n",
    ")\n",
    "plt.show()"
   ]
  },
  {
   "cell_type": "code",
   "execution_count": 45,
   "id": "e49d6c14-348f-4ede-99b3-19ef83917101",
   "metadata": {},
   "outputs": [
    {
     "data": {
      "text/plain": [
       "'235.9 billion'"
      ]
     },
     "execution_count": 45,
     "metadata": {},
     "output_type": "execute_result"
    }
   ],
   "source": [
    "my_date.us_gdp.pretty"
   ]
  },
  {
   "cell_type": "markdown",
   "id": "d0e6c077-91e2-476f-b53d-47abac1eef4d",
   "metadata": {},
   "source": [
    "Adjustments to waffles:\n",
    "- add colors\n",
    "- add/figure out icons\n",
    "- adjust sizes ('font_size')\n",
    "- Labels?\n",
    "- clean up labels (can I do an f-string key?)\n",
    "- Document strings"
   ]
  },
  {
   "cell_type": "code",
   "execution_count": 52,
   "id": "c81bd94f-a366-4d96-b4c3-3203cd66fb5a",
   "metadata": {
    "jupyter": {
     "source_hidden": true
    }
   },
   "outputs": [
    {
     "name": "stdout",
     "output_type": "stream",
     "text": [
      "3.806382998727599\n"
     ]
    }
   ],
   "source": [
    "print(compare_stats.cpi_delta * 100)"
   ]
  },
  {
   "cell_type": "code",
   "execution_count": 54,
   "id": "2980f0d2-7f03-4eca-a486-dcf9a864934e",
   "metadata": {},
   "outputs": [
    {
     "name": "stdout",
     "output_type": "stream",
     "text": [
      "2627.1660007263613\n"
     ]
    }
   ],
   "source": [
    "print(100/compare_stats.cpi_delta)"
   ]
  },
  {
   "cell_type": "code",
   "execution_count": 74,
   "id": "91933c46-502c-4372-905a-ea8a5791ea8d",
   "metadata": {},
   "outputs": [
    {
     "name": "stdout",
     "output_type": "stream",
     "text": [
      "🧍🧍🧍🧍🧍🧍🧍🧍🧍🧍🧍🧍⬜⬜⬜⬜⬜⬜⬜⬜⬜⬜⬜⬜\n",
      "⬜⬜⬜⬜⬜⬜⬜⬜⬜⬜⬜⬜⬜⬜⬜⬜⬜⬜⬜⬜⬜⬜⬜⬜\n",
      "⬜⬜⬜⬜⬜⬜⬜⬜⬜⬜⬜⬜⬜⬜⬜⬜⬜⬜⬜⬜⬜⬜⬜⬜\n",
      "⬜⬜⬜⬜⬜⬜⬜⬜⬜⬜⬜⬜⬜⬜⬜⬜⬜⬜⬜⬜⬜⬜⬜⬜\n"
     ]
    }
   ],
   "source": [
    "vis = (round(compare_stats.us_pop_delta.delta * 100) * ['🧍']) + (round(((1-compare_stats.us_pop_delta.delta) * 100)) * ['⬜'])\n",
    "print('\\n'.join([''.join(vis[row:row+24]) for row in range(0, len(vis), 25)]))"
   ]
  },
  {
   "cell_type": "code",
   "execution_count": 78,
   "id": "0b0df505-26cd-49ea-b1e6-e08df9f479d9",
   "metadata": {},
   "outputs": [
    {
     "name": "stdout",
     "output_type": "stream",
     "text": [
      "🧍🧍🧍🧍🧍🧍🧍🧍🧍🧍🧍🧍🧍🧍🧍🧍⬜⬜⬜⬜⬜⬜⬜⬜\n",
      "⬜⬜⬜⬜⬜⬜⬜⬜⬜⬜⬜⬜⬜⬜⬜⬜⬜⬜⬜⬜⬜⬜⬜⬜\n",
      "⬜⬜⬜⬜⬜⬜⬜⬜⬜⬜⬜⬜⬜⬜⬜⬜⬜⬜⬜⬜⬜⬜⬜⬜\n",
      "⬜⬜⬜⬜⬜⬜⬜⬜⬜⬜⬜⬜⬜⬜⬜⬜⬜⬜⬜⬜⬜⬜⬜⬜\n"
     ]
    }
   ],
   "source": [
    "vis = (round(compare_stats.world_pop_delta.delta * 100) * ['🧍']) + (round(((1-compare_stats.world_pop_delta.delta) * 100)) * ['⬜'])\n",
    "print('\\n'.join([''.join(vis[row:row+24]) for row in range(0, len(vis), 25)]))"
   ]
  },
  {
   "cell_type": "code",
   "execution_count": 122,
   "id": "9acb4ff2-bfea-429a-aac9-520e1ce92e10",
   "metadata": {
    "scrolled": true
   },
   "outputs": [
    {
     "name": "stdout",
     "output_type": "stream",
     "text": [
      "['🧍🏿', '🧍🏻', '🧍🏽', '🧍', '🧍🏾', '🧍🏼', '🧍🏿', '🧍🏻', '🧍🏽', '🧍', '🧍🏾', '🧍🏼', '🧍🏿', '🧍🏻', '🧍🏽', '🧍', '🧍🏾', '🧍🏼', '🧍🏿', '🧍🏻', '🧍🏽', '🧍', '🧍🏾', '🧍🏼', '🧍🏿', '🧍🏻', '🧍🏽', '🧍', '🧍🏾', '🧍🏼', '🧍🏿', '🧍🏻', '🧍🏽', '🧍', '🧍🏾', '🧍🏼', '🧍🏿', '🧍🏻', '🧍🏽', '🧍', '🧍🏾', '🧍🏼', '🧍🏿', '🧍🏻', '🧍🏽', '🧍', '🧍🏾', '🧍🏼', '🧍🏿', '🧍🏻', '🧍🏽', '🧍', '🧍🏾', '🧍🏼', '🧍🏿', '🧍🏻', '🧍🏽', '🧍', '🧍🏾', '🧍🏼', '🧍🏿', '🧍🏻', '🧍🏽', '🧍', '🧍🏾', '🧍🏼', '🧍🏿', '🧍🏻', '🧍🏽', '🧍', '🧍🏾', '🧍🏼', '🧍🏿', '🧍🏻', '🧍🏽', '🧍', '🧍🏾', '🧍🏼', '🧍🏿', '🧍🏻', '🧍🏽', '🧍', '🧍🏾', '🧍🏼', '🧍🏿', '🧍🏻', '🧍🏽', '🧍', '🧍🏾', '🧍🏼', '🧍🏿', '🧍🏻', '🧍🏽', '🧍', '🧍🏾', '🧍🏼', '🧍🏿', '🧍🏻', '🧍🏽', '🧍']\n"
     ]
    }
   ],
   "source": [
    "PEOPLE_BAR = [[ '🧍🏿', '🧍🏻', '🧍🏽', '🧍', '🧍🏾', '🧍🏼'][person%6] for k in range(4) for person in range(k * 25, (k + 1) * 25)]\n",
    "print(PEOPLE_BAR)"
   ]
  },
  {
   "cell_type": "code",
   "execution_count": 114,
   "id": "3aa9df9e-15a1-4bda-a18b-f7d2c6cfc974",
   "metadata": {
    "scrolled": true
   },
   "outputs": [
    {
     "name": "stdout",
     "output_type": "stream",
     "text": [
      "b'\\xe1\\xbd\\x868'\n"
     ]
    }
   ],
   "source": [
    "print(''.encode('utf-8'))"
   ]
  },
  {
   "cell_type": "code",
   "execution_count": 61,
   "id": "da464731-64e1-43fe-a0c4-47c108a45e95",
   "metadata": {},
   "outputs": [
    {
     "data": {
      "text/html": [
       "<div>\n",
       "<style scoped>\n",
       "    .dataframe tbody tr th:only-of-type {\n",
       "        vertical-align: middle;\n",
       "    }\n",
       "\n",
       "    .dataframe tbody tr th {\n",
       "        vertical-align: top;\n",
       "    }\n",
       "\n",
       "    .dataframe thead th {\n",
       "        text-align: right;\n",
       "    }\n",
       "</style>\n",
       "<table border=\"1\" class=\"dataframe\">\n",
       "  <thead>\n",
       "    <tr style=\"text-align: right;\">\n",
       "      <th></th>\n",
       "      <th>Unnamed: 0</th>\n",
       "      <th>name</th>\n",
       "      <th>time</th>\n",
       "      <th>Income per person</th>\n",
       "      <th>GDP total</th>\n",
       "    </tr>\n",
       "  </thead>\n",
       "  <tbody>\n",
       "    <tr>\n",
       "      <th>0</th>\n",
       "      <td>46686</td>\n",
       "      <td>United States</td>\n",
       "      <td>1800</td>\n",
       "      <td>2928</td>\n",
       "      <td>17566258048</td>\n",
       "    </tr>\n",
       "    <tr>\n",
       "      <th>1</th>\n",
       "      <td>46687</td>\n",
       "      <td>United States</td>\n",
       "      <td>1801</td>\n",
       "      <td>2981</td>\n",
       "      <td>18224821959</td>\n",
       "    </tr>\n",
       "    <tr>\n",
       "      <th>2</th>\n",
       "      <td>46688</td>\n",
       "      <td>United States</td>\n",
       "      <td>1802</td>\n",
       "      <td>3031</td>\n",
       "      <td>18883627076</td>\n",
       "    </tr>\n",
       "    <tr>\n",
       "      <th>3</th>\n",
       "      <td>46689</td>\n",
       "      <td>United States</td>\n",
       "      <td>1803</td>\n",
       "      <td>2979</td>\n",
       "      <td>18913214362</td>\n",
       "    </tr>\n",
       "    <tr>\n",
       "      <th>4</th>\n",
       "      <td>46690</td>\n",
       "      <td>United States</td>\n",
       "      <td>1804</td>\n",
       "      <td>2977</td>\n",
       "      <td>19252750616</td>\n",
       "    </tr>\n",
       "  </tbody>\n",
       "</table>\n",
       "</div>"
      ],
      "text/plain": [
       "   Unnamed: 0           name  time  Income per person    GDP total\n",
       "0       46686  United States  1800               2928  17566258048\n",
       "1       46687  United States  1801               2981  18224821959\n",
       "2       46688  United States  1802               3031  18883627076\n",
       "3       46689  United States  1803               2979  18913214362\n",
       "4       46690  United States  1804               2977  19252750616"
      ]
     },
     "execution_count": 61,
     "metadata": {},
     "output_type": "execute_result"
    }
   ],
   "source": [
    "import pandas as pd\n",
    "pd.read_csv('data/us_gdp.csv').head()"
   ]
  }
 ],
 "metadata": {
  "kernelspec": {
   "display_name": "Python [conda env:base] *",
   "language": "python",
   "name": "conda-base-py"
  },
  "language_info": {
   "codemirror_mode": {
    "name": "ipython",
    "version": 3
   },
   "file_extension": ".py",
   "mimetype": "text/x-python",
   "name": "python",
   "nbconvert_exporter": "python",
   "pygments_lexer": "ipython3",
   "version": "3.12.3"
  }
 },
 "nbformat": 4,
 "nbformat_minor": 5
}
